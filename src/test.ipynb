{
 "cells": [
  {
   "cell_type": "code",
   "execution_count": 1,
   "metadata": {
    "collapsed": false
   },
   "outputs": [],
   "source": [
    "from renju import run, run_test, Player\n",
    "from agent import BackendAgent\n",
    "\n",
    "import collections\n",
    "import itertools\n",
    "import logging\n",
    "import time\n",
    "\n",
    "%matplotlib notebook"
   ]
  },
  {
   "cell_type": "code",
   "execution_count": 2,
   "metadata": {
    "collapsed": false
   },
   "outputs": [],
   "source": [
    "DEF_PY_PATH = '/home/dasimagin/sandbox/renju/src'\n",
    "\n",
    "class Config:\n",
    "    def __init__(self, name, cmd, cwd, py_path=DEF_PY_PATH):\n",
    "        self.name = name\n",
    "        self.cmd = cmd\n",
    "        self.cwd = cwd\n",
    "        self.py_path = py_path\n",
    "        \n",
    "    def create_agent(self):\n",
    "        return BackendAgent(\n",
    "            self.cmd,\n",
    "            self.name,\n",
    "            env = {'PYTHONPATH': self.py_path},\n",
    "            cwd = self.cwd\n",
    "        )\n",
    "        \n",
    "hardy = Config(\n",
    "    'Hardy',\n",
    "    '/home/dasimagin/sandbox/envs/hardy/bin/python /home/dasimagin/sandbox/hardy/renju/search_agent.py',\n",
    "    '/home/dasimagin/sandbox/hardy/renju/'\n",
    ")\n",
    "\n",
    "pierre = Config(\n",
    "    'Pierre',\n",
    "    '/home/dasimagin/sandbox/envs/pierre/bin/python /home/dasimagin/sandbox/pierre/contest/tree_search.py',\n",
    "    '/home/dasimagin/sandbox/pierre/contest'\n",
    ")\n",
    "\n",
    "lolita = Config(\n",
    "    'Lolita',\n",
    "    '/home/dasimagin/sandbox/envs/lolita/bin/python /home/dasimagin/sandbox/lolita/contest/my_agent.py',\n",
    "    '/home/dasimagin/sandbox/lolita/contest'\n",
    ")\n",
    "\n",
    "elena = Config(\n",
    "    'Elena',\n",
    "    '/home/dasimagin/sandbox/envs/elena/bin/python /home/dasimagin/sandbox/elena/src/ham_agent.py',\n",
    "    '/home/dasimagin/sandbox/elena/src'\n",
    ")\n",
    "\n",
    "john = Config(\n",
    "    'John 8=э',\n",
    "    '/home/dasimagin/sandbox/envs/john/bin/python /home/dasimagin/sandbox/john/competition/player/mcts_agent.py',\n",
    "    '/home/dasimagin/sandbox/john/competition/player'\n",
    ")\n",
    "\n",
    "configs = [hardy, pierre, lolita, elena, john]"
   ]
  },
  {
   "cell_type": "code",
   "execution_count": 3,
   "metadata": {
    "collapsed": false
   },
   "outputs": [],
   "source": [
    "def competition(configs, game_n=3, max_move_n=60, timeout=10, timeinit=20):\n",
    "    table = {config.name: 0 for config in configs}\n",
    "    logging.debug('Start comptetion...')\n",
    "    \n",
    "    for pair in itertools.combinations(configs, 2):\n",
    "        for n in range(2 * game_n):\n",
    "            black = pair[n % 2].create_agent() \n",
    "            white = pair[(n + 1) % 2].create_agent()                \n",
    "                \n",
    "            logging.debug('Load backends...')\n",
    "            time.sleep(timeinit)\n",
    "            \n",
    "            logging.debug('Start game...')\n",
    "            result, moves = run(black, white, max_move_n=60, timeout=10)\n",
    "            logging.debug(\n",
    "                '{black} vs {white}: {moves} {result}'.format(\n",
    "                    black = black.name(),\n",
    "                    white = white.name(),\n",
    "                    moves = moves,\n",
    "                    result = str(result)\n",
    "                )\n",
    "            )\n",
    "            \n",
    "            if result == Player.BLACK:\n",
    "                table[black.name()] += 3\n",
    "                \n",
    "            if result == Player.WHITE:\n",
    "                table[white.name()] += 3\n",
    "                \n",
    "            if not result:\n",
    "                table[black.name()] += 1\n",
    "                table[white.name()] += 1\n",
    "                \n",
    "            logging.debug('Current results {}'.format(table))\n",
    "                \n",
    "    return table"
   ]
  },
  {
   "cell_type": "code",
   "execution_count": 4,
   "metadata": {
    "collapsed": false
   },
   "outputs": [],
   "source": [
    "logging.basicConfig(\n",
    "    format='%(asctime)s %(message)s',\n",
    "    filename='competition.log',\n",
    "    level=logging.DEBUG\n",
    ")\n",
    "\n",
    "table = competition(configs, game_n=1)"
   ]
  },
  {
   "cell_type": "code",
   "execution_count": null,
   "metadata": {
    "collapsed": false
   },
   "outputs": [],
   "source": [
    "for name, score in table:\n",
    "    print('{name}: {score}'.format(name=name, score=score))"
   ]
  },
  {
   "cell_type": "code",
   "execution_count": null,
   "metadata": {
    "collapsed": true
   },
   "outputs": [],
   "source": []
  }
 ],
 "metadata": {
  "kernelspec": {
   "display_name": "Python 3",
   "language": "python",
   "name": "python3"
  },
  "language_info": {
   "codemirror_mode": {
    "name": "ipython",
    "version": 3
   },
   "file_extension": ".py",
   "mimetype": "text/x-python",
   "name": "python",
   "nbconvert_exporter": "python",
   "pygments_lexer": "ipython3",
   "version": "3.6.0"
  }
 },
 "nbformat": 4,
 "nbformat_minor": 1
}
